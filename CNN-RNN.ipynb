{
 "cells": [
  {
   "cell_type": "code",
   "execution_count": null,
   "id": "cbbb473c",
   "metadata": {},
   "outputs": [],
   "source": [
    "# This Python 3 environment comes with many helpful analytics libraries installed\n",
    "# It is defined by the kaggle/python Docker image: https://github.com/kaggle/docker-python\n",
    "# For example, here's several helpful packages to load\n",
    "\n",
    "import numpy as np # linear algebra\n",
    "import pandas as pd # data processing, CSV file I/O (e.g. pd.read_csv)\n",
    "\n",
    "# Input data files are available in the read-only \"../input/\" directory\n",
    "# For example, running this (by clicking run or pressing Shift+Enter) will list all files under the input directory\n",
    "\n",
    "import os\n",
    "for dirpath, dirnames,filenames in os.walk('/kaggle/input'):\n",
    "    print(f\"there are {len(dirnames)} directoris and {len(filenames)} files in {dirpath}\")\n",
    "\n",
    "# You can write up to 20GB to the current directory (/kaggle/working/) that gets preserved as output when you create a version using \"Save & Run All\" \n",
    "# You can also write temporary files to /kaggle/temp/, but they won't be saved outside of the current session"
   ]
  },
  {
   "cell_type": "code",
   "execution_count": null,
   "id": "828b56b6",
   "metadata": {},
   "outputs": [],
   "source": [
    "import torch\n",
    "import requests\n",
    "import zipfile\n",
    "import pathlib\n",
    "from pathlib import Path"
   ]
  },
  {
   "cell_type": "code",
   "execution_count": null,
   "id": "154ddf8a",
   "metadata": {},
   "outputs": [],
   "source": [
    "device = torch.device(\"cuda\" if torch.cuda.is_available() else \"cpu\")"
   ]
  },
  {
   "cell_type": "code",
   "execution_count": null,
   "id": "a9b8a9af",
   "metadata": {},
   "outputs": [],
   "source": [
    "data_path = Path(\"/kaggle/input/ai-of-god-3/Public_data\")"
   ]
  },
  {
   "cell_type": "code",
   "execution_count": null,
   "id": "ba45eb15",
   "metadata": {},
   "outputs": [],
   "source": [
    "train_path = data_path/\"train_images\"\n",
    "test_path = data_path/\"test_images\"\n",
    "train_csv = data_path/\"train.csv\""
   ]
  },
  {
   "cell_type": "code",
   "execution_count": null,
   "id": "139044a3",
   "metadata": {},
   "outputs": [],
   "source": [
    "import os, csv, pathlib\n",
    "from PIL import Image\n",
    "from torch.utils.data import Dataset\n",
    "\n",
    "class CustomImageDataset(Dataset):\n",
    "    def __init__(self, root, csv_file, tokenizer, transform=None, mode=\"train\", max_length=32):\n",
    "        self.root = root\n",
    "        self.paths = list(pathlib.Path(self.root).glob(\"*.png\"))\n",
    "        self.transform = transform\n",
    "        self.tokenizer = tokenizer\n",
    "        self.mode = mode\n",
    "        self.max_length = max_length\n",
    "        self.labels = {'id': [], 'transcription': []}\n",
    "        \n",
    "        if mode == \"train\":\n",
    "            with open(csv_file, mode='r') as file:\n",
    "                reader = csv.DictReader(file)\n",
    "                for row in reader:\n",
    "                    self.labels['id'].append(row['unique Id'])\n",
    "                    self.labels['transcription'].append(row['transcription'])\n",
    "\n",
    "    def __len__(self):\n",
    "        return len(self.paths)\n",
    "\n",
    "    def __getitem__(self, index):\n",
    "        image_path = self.paths[index]\n",
    "        image = Image.open(image_path).convert(\"RGB\")\n",
    "\n",
    "        if self.transform:\n",
    "            image = self.transform(image)\n",
    "\n",
    "        if self.mode == \"train\":\n",
    "            image_id = os.path.splitext(os.path.basename(image_path))[0]\n",
    "            transcription = self.labels['transcription'][self.labels['id'].index(image_id)]\n",
    "            encoding = self.tokenizer(transcription, max_length=self.max_length, padding=\"max_length\", truncation=True, return_tensors=\"pt\")\n",
    "            input_ids = encoding[\"input_ids\"].squeeze(0)  # [max_len]\n",
    "            return image, input_ids\n",
    "\n",
    "        return image\n"
   ]
  },
  {
   "cell_type": "code",
   "execution_count": null,
   "id": "bc17646d",
   "metadata": {},
   "outputs": [],
   "source": [
    "from transformers import AutoTokenizer\n",
    "from torchvision import transforms\n",
    "from torch.utils.data import DataLoader\n",
    "\n",
    "tokenizer = AutoTokenizer.from_pretrained(\"bert-base-uncased\")\n",
    "transform = transforms.Compose([\n",
    "    transforms.Resize((128, 512)),  # Wider for OCR\n",
    "    transforms.ToTensor(),\n",
    "])\n"
   ]
  },
  {
   "cell_type": "code",
   "execution_count": null,
   "id": "299301e4",
   "metadata": {},
   "outputs": [],
   "source": [
    "\n",
    "data = CustomImageDataset(\"data/train/images\", \"data/train/labels.csv\", tokenizer, transform)\n"
   ]
  },
  {
   "cell_type": "code",
   "execution_count": null,
   "id": "49d640b2",
   "metadata": {},
   "outputs": [],
   "source": [
    "from torch.utils.data import random_split\n",
    "train_size = int(0.8 * len(data))\n",
    "test_size = len(data) - train_size\n",
    "\n",
    "train_data, test_data = random_split(data, [train_size, test_size])"
   ]
  },
  {
   "cell_type": "code",
   "execution_count": null,
   "id": "d43183aa",
   "metadata": {},
   "outputs": [],
   "source": [
    "\n",
    "train_loader = DataLoader(train_data, batch_size=16, shuffle=True)\n",
    "val_loader = DataLoader(val_data, batch_size=16)\n"
   ]
  },
  {
   "cell_type": "code",
   "execution_count": null,
   "id": "6af47038",
   "metadata": {},
   "outputs": [],
   "source": [
    "import pandas as pd\n",
    "label_df = pd.DataFrame(data.labels)\n",
    "label_df.head(n=10)"
   ]
  },
  {
   "cell_type": "code",
   "execution_count": null,
   "id": "10efd3c7",
   "metadata": {},
   "outputs": [],
   "source": [
    "display_random_images(data,10,seed=42)"
   ]
  },
  {
   "cell_type": "code",
   "execution_count": null,
   "id": "e388e136",
   "metadata": {},
   "outputs": [],
   "source": [
    "import random\n",
    "import matplotlib.pyplot as plt\n",
    "import math\n",
    "def display_random_images(dataset,n,seed=None):\n",
    "  if n>10:\n",
    "    n=10\n",
    "  if seed:\n",
    "    torch.manual_seed(seed)\n",
    "  random_samples_idx = random.sample(range(len(dataset.paths)),n)\n",
    "  plt.figure(figsize=(16,16))\n",
    "  for i, id in enumerate(random_samples_idx):\n",
    "    image, label ,_,_= dataset[id]\n",
    "    plt.subplot(n,1,i+1)\n",
    "    plt.imshow(image.permute(1,2,0))\n",
    "    plt.axis(\"off\")\n",
    "    title = f\"class : {label} | \\n size : {image.permute(1,2,0).shape}\"\n",
    "    plt.title(title,fontdict={'fontsize':8})\n"
   ]
  },
  {
   "cell_type": "code",
   "execution_count": null,
   "id": "dbbd51f8",
   "metadata": {},
   "outputs": [],
   "source": [
    "import torch\n",
    "import torch.nn as nn\n",
    "import torchvision.models as models\n",
    "\n",
    "class CNNEncoder(nn.Module):\n",
    "    def __init__(self, output_dim=512):\n",
    "        super().__init__()\n",
    "        backbone = models.resnet18(pretrained=True)\n",
    "        self.cnn = nn.Sequential(*list(backbone.children())[:-2])\n",
    "        self.avgpool = nn.AdaptiveAvgPool2d((1, 1))\n",
    "        self.linear = nn.Linear(backbone.fc.in_features, output_dim)\n",
    "\n",
    "    def forward(self, x):\n",
    "        features = self.cnn(x)             # [B, 512, H', W']\n",
    "        pooled = self.avgpool(features)    # [B, 512, 1, 1]\n",
    "        flat = pooled.view(pooled.size(0), -1)  # [B, 512]\n",
    "        return self.linear(flat)           # [B, output_dim]\n"
   ]
  },
  {
   "cell_type": "code",
   "execution_count": null,
   "id": "51e454c0",
   "metadata": {},
   "outputs": [],
   "source": [
    "\n",
    "class OCRLSTMDecoder(nn.Module):\n",
    "    def __init__(self, input_dim=512, hidden_dim=512, vocab_size=30522, embedding_dim=256, num_layers=1, pad_token_id=0):\n",
    "        super().__init__()\n",
    "        self.embedding = nn.Embedding(vocab_size, embedding_dim, padding_idx=pad_token_id)\n",
    "        self.lstm = nn.LSTM(embedding_dim, hidden_dim, num_layers)\n",
    "        self.fc = nn.Linear(hidden_dim, vocab_size)\n",
    "        self.init_linear = nn.Linear(input_dim, hidden_dim)\n",
    "        self.pad_token_id = pad_token_id\n",
    "\n",
    "    def forward(self, encoder_output, tgt_input_ids):\n",
    "        embedded = self.embedding(tgt_input_ids)  # [T, B, E]\n",
    "        h0 = torch.tanh(self.init_linear(encoder_output)).unsqueeze(0)  # [1, B, H]\n",
    "        c0 = torch.zeros_like(h0)  # [1, B, H]\n",
    "        output, _ = self.lstm(embedded, (h0, c0))  # [T, B, H]\n",
    "        logits = self.fc(output)  # [T, B, vocab]\n",
    "        return logits\n"
   ]
  },
  {
   "cell_type": "code",
   "execution_count": null,
   "id": "47d7ba06",
   "metadata": {},
   "outputs": [],
   "source": [
    "class CNNLSTM_CTC_OCR(nn.Module):\n",
    "    def __init__(self, cnn_out=512, hidden_dim=256, vocab_size=30522):\n",
    "        super().__init__()\n",
    "        backbone = models.resnet18(pretrained=True)\n",
    "        self.cnn = nn.Sequential(*list(backbone.children())[:-2])  # Remove last 2 layers\n",
    "        self.reduce_conv = nn.Conv2d(512, cnn_out, kernel_size=1)\n",
    "\n",
    "        self.lstm = nn.LSTM(cnn_out, hidden_dim, bidirectional=True, batch_first=True)\n",
    "        self.classifier = nn.Linear(hidden_dim * 2, vocab_size)  # BiLSTM\n",
    "\n",
    "    def forward(self, x):  # x: [B, 3, H, W]\n",
    "        features = self.cnn(x)  # [B, 512, H', W']\n",
    "        features = self.reduce_conv(features)  # [B, cnn_out, H', W']\n",
    "\n",
    "        B, C, H, W = features.size()\n",
    "        features = features.permute(0, 3, 2, 1)  # [B, W, H, C]\n",
    "        features = features.reshape(B, W, H * C)  # [B, W, H*C]\n",
    "\n",
    "        lstm_out, _ = self.lstm(features)  # [B, W, 2*H]\n",
    "        logits = self.classifier(lstm_out)  # [B, W, vocab]\n",
    "        return logits.permute(1, 0, 2)  # [T, B, vocab] for CTC\n"
   ]
  },
  {
   "cell_type": "code",
   "execution_count": null,
   "id": "6104a19b",
   "metadata": {},
   "outputs": [],
   "source": [
    "import numpy as np\n",
    "from tqdm import tqdm\n",
    "\n",
    "def wer(reference, hypothesis):\n",
    "    r = reference.split()\n",
    "    h = hypothesis.split()\n",
    "    d = np.zeros((len(r)+1, len(h)+1), dtype=np.uint8)\n",
    "    for i in range(1, len(r)+1):\n",
    "        d[i][0] = i\n",
    "    for j in range(1, len(h)+1):\n",
    "        d[0][j] = j\n",
    "    for i in range(1, len(r)+1):\n",
    "        for j in range(1, len(h)+1):\n",
    "            if r[i-1] == h[j-1]:\n",
    "                d[i][j] = d[i-1][j-1]\n",
    "            else:\n",
    "                d[i][j] = min(d[i-1][j], d[i][j-1], d[i-1][j-1]) + 1\n",
    "    return d[len(r)][len(h)] / len(r)\n"
   ]
  },
  {
   "cell_type": "code",
   "execution_count": null,
   "id": "512e51bd",
   "metadata": {},
   "outputs": [],
   "source": [
    "def train_ctc(model, train_loader, val_loader, tokenizer, optimizer, device, epochs=10):\n",
    "    criterion = nn.CTCLoss(blank=tokenizer.pad_token_id, zero_infinity=True)\n",
    "    model.to(device)\n",
    "\n",
    "    for epoch in range(epochs):\n",
    "        model.train()\n",
    "        total_loss = 0\n",
    "        for images, input_ids in tqdm(train_loader, desc=f\"Epoch {epoch+1} [Train]\"):\n",
    "            images = images.to(device)\n",
    "            input_ids = input_ids.to(device)\n",
    "\n",
    "            # Forward pass\n",
    "            logits = model(images)  # [T, B, V]\n",
    "            log_probs = logits.log_softmax(2)  # required by CTC\n",
    "\n",
    "            # Get target lengths\n",
    "            tgt_lengths = (input_ids != tokenizer.pad_token_id).sum(dim=1)  # [B]\n",
    "            input_lengths = torch.full(size=(log_probs.size(1),), fill_value=log_probs.size(0), dtype=torch.long)\n",
    "\n",
    "            # CTC loss\n",
    "            loss = criterion(log_probs, input_ids, input_lengths, tgt_lengths)\n",
    "            optimizer.zero_grad()\n",
    "            loss.backward()\n",
    "            optimizer.step()\n",
    "            total_loss += loss.item()\n",
    "\n",
    "        print(f\"Epoch {epoch+1} | Train Loss: {total_loss/len(train_loader):.4f}\")\n",
    "\n",
    "        # Validation with greedy decoding\n",
    "        model.eval()\n",
    "        preds, refs = [], []\n",
    "        with torch.no_grad():\n",
    "            for images, input_ids in tqdm(val_loader, desc=f\"Epoch {epoch+1} [Val]\"):\n",
    "                images = images.to(device)\n",
    "                input_ids = input_ids.to(device)\n",
    "\n",
    "                logits = model(images)  # [T, B, V]\n",
    "                pred_ids = logits.argmax(dim=-1).permute(1, 0)  # [B, T]\n",
    "\n",
    "                for pred_seq, true_seq in zip(pred_ids, input_ids):\n",
    "                    pred_tokens = []\n",
    "                    prev = tokenizer.pad_token_id\n",
    "                    for p in pred_seq.cpu().numpy():\n",
    "                        if p != prev and p != tokenizer.pad_token_id:\n",
    "                            pred_tokens.append(p)\n",
    "                        prev = p\n",
    "                    pred_text = tokenizer.decode(pred_tokens, skip_special_tokens=True)\n",
    "                    true_text = tokenizer.decode(true_seq.cpu().numpy(), skip_special_tokens=True)\n",
    "                    preds.append(pred_text)\n",
    "                    refs.append(true_text)\n",
    "\n",
    "        avg_wer = np.mean([wer(r, p) for r, p in zip(refs, preds)])\n",
    "        print(f\"Epoch {epoch+1} | Val WER: {avg_wer:.4f}\")\n"
   ]
  },
  {
   "cell_type": "code",
   "execution_count": null,
   "id": "79cae882",
   "metadata": {},
   "outputs": [],
   "source": [
    "\n",
    "model = CNNLSTM_CTC_OCR(cnn_out=256, hidden_dim=256, vocab_size=tokenizer.vocab_size)\n",
    "optimizer = torch.optim.Adam(model.parameters(), lr=1e-4)\n",
    "\n",
    "device = torch.device(\"cuda\" if torch.cuda.is_available() else \"cpu\")\n",
    "train_ctc(model, train_loader, val_loader, tokenizer, optimizer, device, epochs=10)\n"
   ]
  }
 ],
 "metadata": {
  "kernelspec": {
   "display_name": "base",
   "language": "python",
   "name": "python3"
  },
  "language_info": {
   "codemirror_mode": {
    "name": "ipython",
    "version": 3
   },
   "file_extension": ".py",
   "mimetype": "text/x-python",
   "name": "python",
   "nbconvert_exporter": "python",
   "pygments_lexer": "ipython3",
   "version": "3.12.7"
  }
 },
 "nbformat": 4,
 "nbformat_minor": 5
}
